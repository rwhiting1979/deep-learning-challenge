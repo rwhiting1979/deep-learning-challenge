{
 "cells": [
  {
   "cell_type": "markdown",
   "metadata": {},
   "source": [
    "## Preprocessing"
   ]
  },
  {
   "cell_type": "code",
   "execution_count": 1,
   "metadata": {
    "tags": []
   },
   "outputs": [
    {
     "data": {
      "text/html": [
       "<div>\n",
       "<style scoped>\n",
       "    .dataframe tbody tr th:only-of-type {\n",
       "        vertical-align: middle;\n",
       "    }\n",
       "\n",
       "    .dataframe tbody tr th {\n",
       "        vertical-align: top;\n",
       "    }\n",
       "\n",
       "    .dataframe thead th {\n",
       "        text-align: right;\n",
       "    }\n",
       "</style>\n",
       "<table border=\"1\" class=\"dataframe\">\n",
       "  <thead>\n",
       "    <tr style=\"text-align: right;\">\n",
       "      <th></th>\n",
       "      <th>EIN</th>\n",
       "      <th>NAME</th>\n",
       "      <th>APPLICATION_TYPE</th>\n",
       "      <th>AFFILIATION</th>\n",
       "      <th>CLASSIFICATION</th>\n",
       "      <th>USE_CASE</th>\n",
       "      <th>ORGANIZATION</th>\n",
       "      <th>STATUS</th>\n",
       "      <th>INCOME_AMT</th>\n",
       "      <th>SPECIAL_CONSIDERATIONS</th>\n",
       "      <th>ASK_AMT</th>\n",
       "      <th>IS_SUCCESSFUL</th>\n",
       "    </tr>\n",
       "  </thead>\n",
       "  <tbody>\n",
       "    <tr>\n",
       "      <th>0</th>\n",
       "      <td>10520599</td>\n",
       "      <td>BLUE KNIGHTS MOTORCYCLE CLUB</td>\n",
       "      <td>T10</td>\n",
       "      <td>Independent</td>\n",
       "      <td>C1000</td>\n",
       "      <td>ProductDev</td>\n",
       "      <td>Association</td>\n",
       "      <td>1</td>\n",
       "      <td>0</td>\n",
       "      <td>N</td>\n",
       "      <td>5000</td>\n",
       "      <td>1</td>\n",
       "    </tr>\n",
       "    <tr>\n",
       "      <th>1</th>\n",
       "      <td>10531628</td>\n",
       "      <td>AMERICAN CHESAPEAKE CLUB CHARITABLE TR</td>\n",
       "      <td>T3</td>\n",
       "      <td>Independent</td>\n",
       "      <td>C2000</td>\n",
       "      <td>Preservation</td>\n",
       "      <td>Co-operative</td>\n",
       "      <td>1</td>\n",
       "      <td>1-9999</td>\n",
       "      <td>N</td>\n",
       "      <td>108590</td>\n",
       "      <td>1</td>\n",
       "    </tr>\n",
       "    <tr>\n",
       "      <th>2</th>\n",
       "      <td>10547893</td>\n",
       "      <td>ST CLOUD PROFESSIONAL FIREFIGHTERS</td>\n",
       "      <td>T5</td>\n",
       "      <td>CompanySponsored</td>\n",
       "      <td>C3000</td>\n",
       "      <td>ProductDev</td>\n",
       "      <td>Association</td>\n",
       "      <td>1</td>\n",
       "      <td>0</td>\n",
       "      <td>N</td>\n",
       "      <td>5000</td>\n",
       "      <td>0</td>\n",
       "    </tr>\n",
       "    <tr>\n",
       "      <th>3</th>\n",
       "      <td>10553066</td>\n",
       "      <td>SOUTHSIDE ATHLETIC ASSOCIATION</td>\n",
       "      <td>T3</td>\n",
       "      <td>CompanySponsored</td>\n",
       "      <td>C2000</td>\n",
       "      <td>Preservation</td>\n",
       "      <td>Trust</td>\n",
       "      <td>1</td>\n",
       "      <td>10000-24999</td>\n",
       "      <td>N</td>\n",
       "      <td>6692</td>\n",
       "      <td>1</td>\n",
       "    </tr>\n",
       "    <tr>\n",
       "      <th>4</th>\n",
       "      <td>10556103</td>\n",
       "      <td>GENETIC RESEARCH INSTITUTE OF THE DESERT</td>\n",
       "      <td>T3</td>\n",
       "      <td>Independent</td>\n",
       "      <td>C1000</td>\n",
       "      <td>Heathcare</td>\n",
       "      <td>Trust</td>\n",
       "      <td>1</td>\n",
       "      <td>100000-499999</td>\n",
       "      <td>N</td>\n",
       "      <td>142590</td>\n",
       "      <td>1</td>\n",
       "    </tr>\n",
       "  </tbody>\n",
       "</table>\n",
       "</div>"
      ],
      "text/plain": [
       "        EIN                                      NAME APPLICATION_TYPE  \\\n",
       "0  10520599              BLUE KNIGHTS MOTORCYCLE CLUB              T10   \n",
       "1  10531628    AMERICAN CHESAPEAKE CLUB CHARITABLE TR               T3   \n",
       "2  10547893        ST CLOUD PROFESSIONAL FIREFIGHTERS               T5   \n",
       "3  10553066            SOUTHSIDE ATHLETIC ASSOCIATION               T3   \n",
       "4  10556103  GENETIC RESEARCH INSTITUTE OF THE DESERT               T3   \n",
       "\n",
       "        AFFILIATION CLASSIFICATION      USE_CASE  ORGANIZATION  STATUS  \\\n",
       "0       Independent          C1000    ProductDev   Association       1   \n",
       "1       Independent          C2000  Preservation  Co-operative       1   \n",
       "2  CompanySponsored          C3000    ProductDev   Association       1   \n",
       "3  CompanySponsored          C2000  Preservation         Trust       1   \n",
       "4       Independent          C1000     Heathcare         Trust       1   \n",
       "\n",
       "      INCOME_AMT SPECIAL_CONSIDERATIONS  ASK_AMT  IS_SUCCESSFUL  \n",
       "0              0                      N     5000              1  \n",
       "1         1-9999                      N   108590              1  \n",
       "2              0                      N     5000              0  \n",
       "3    10000-24999                      N     6692              1  \n",
       "4  100000-499999                      N   142590              1  "
      ]
     },
     "execution_count": 1,
     "metadata": {},
     "output_type": "execute_result"
    }
   ],
   "source": [
    "# Import our dependencies\n",
    "from sklearn.model_selection import train_test_split\n",
    "from sklearn.preprocessing import StandardScaler\n",
    "import pandas as pd\n",
    "import tensorflow as tf\n",
    "\n",
    "#  Import and read the charity_data.csv.\n",
    "import pandas as pd \n",
    "application_df = pd.read_csv(\"https://static.bc-edx.com/data/dl-1-2/m21/lms/starter/charity_data.csv\")\n",
    "application_df.head()"
   ]
  },
  {
   "cell_type": "code",
   "execution_count": 2,
   "metadata": {
    "tags": []
   },
   "outputs": [],
   "source": [
    "# Drop the non-beneficial ID columns, 'EIN' and 'NAME'.\n",
    "application_df = application_df.drop(['EIN', 'NAME'], axis=1)"
   ]
  },
  {
   "cell_type": "code",
   "execution_count": 3,
   "metadata": {
    "tags": []
   },
   "outputs": [
    {
     "data": {
      "text/plain": [
       "APPLICATION_TYPE            17\n",
       "AFFILIATION                  6\n",
       "CLASSIFICATION              71\n",
       "USE_CASE                     5\n",
       "ORGANIZATION                 4\n",
       "STATUS                       2\n",
       "INCOME_AMT                   9\n",
       "SPECIAL_CONSIDERATIONS       2\n",
       "ASK_AMT                   8747\n",
       "IS_SUCCESSFUL                2\n",
       "dtype: int64"
      ]
     },
     "execution_count": 3,
     "metadata": {},
     "output_type": "execute_result"
    }
   ],
   "source": [
    "# Determine the number of unique values in each column.\n",
    "unique_values = application_df.nunique()\n",
    "unique_values"
   ]
  },
  {
   "cell_type": "code",
   "execution_count": 4,
   "metadata": {
    "tags": []
   },
   "outputs": [
    {
     "data": {
      "text/plain": [
       "T3     27037\n",
       "T4      1542\n",
       "T6      1216\n",
       "T5      1173\n",
       "T19     1065\n",
       "T8       737\n",
       "T7       725\n",
       "T10      528\n",
       "T9       156\n",
       "T13       66\n",
       "T12       27\n",
       "T2        16\n",
       "T25        3\n",
       "T14        3\n",
       "T29        2\n",
       "T15        2\n",
       "T17        1\n",
       "Name: APPLICATION_TYPE, dtype: int64"
      ]
     },
     "execution_count": 4,
     "metadata": {},
     "output_type": "execute_result"
    }
   ],
   "source": [
    "# Look at APPLICATION_TYPE value counts for binning\n",
    "value_counts = application_df['APPLICATION_TYPE'].value_counts()\n",
    "value_counts"
   ]
  },
  {
   "cell_type": "code",
   "execution_count": 5,
   "metadata": {
    "tags": []
   },
   "outputs": [
    {
     "data": {
      "text/plain": [
       "T3       27037\n",
       "T4        1542\n",
       "T6        1216\n",
       "T5        1173\n",
       "T19       1065\n",
       "T8         737\n",
       "T7         725\n",
       "T10        528\n",
       "Other      276\n",
       "Name: APPLICATION_TYPE, dtype: int64"
      ]
     },
     "execution_count": 5,
     "metadata": {},
     "output_type": "execute_result"
    }
   ],
   "source": [
    "# Choose a cutoff value and create a list of application types to be replaced\n",
    "# use the variable name `application_types_to_replace`\n",
    "cutoff_value = 500\n",
    "application_types_to_replace = list(value_counts[value_counts < cutoff_value].index)\n",
    "\n",
    "# Replace in dataframe\n",
    "for app in application_types_to_replace:\n",
    "    application_df['APPLICATION_TYPE'] = application_df['APPLICATION_TYPE'].replace(app,\"Other\")\n",
    "\n",
    "# Check to make sure binning was successful\n",
    "binned_value_counts = application_df['APPLICATION_TYPE'].value_counts()\n",
    "binned_value_counts"
   ]
  },
  {
   "cell_type": "code",
   "execution_count": 6,
   "metadata": {
    "tags": []
   },
   "outputs": [
    {
     "data": {
      "text/plain": [
       "C1000    17326\n",
       "C2000     6074\n",
       "C1200     4837\n",
       "C3000     1918\n",
       "C2100     1883\n",
       "         ...  \n",
       "C4120        1\n",
       "C8210        1\n",
       "C2561        1\n",
       "C4500        1\n",
       "C2150        1\n",
       "Name: CLASSIFICATION, Length: 71, dtype: int64"
      ]
     },
     "execution_count": 6,
     "metadata": {},
     "output_type": "execute_result"
    }
   ],
   "source": [
    "# Look at CLASSIFICATION value counts for binning\n",
    "classification_value_counts = application_df['CLASSIFICATION'].value_counts()\n",
    "classification_value_counts"
   ]
  },
  {
   "cell_type": "code",
   "execution_count": 7,
   "metadata": {
    "tags": []
   },
   "outputs": [
    {
     "data": {
      "text/plain": [
       "C1000    17326\n",
       "C2000     6074\n",
       "C1200     4837\n",
       "C3000     1918\n",
       "C2100     1883\n",
       "C7000      777\n",
       "C1700      287\n",
       "C4000      194\n",
       "C5000      116\n",
       "C1270      114\n",
       "C2700      104\n",
       "C2800       95\n",
       "C7100       75\n",
       "C1300       58\n",
       "C1280       50\n",
       "C1230       36\n",
       "C1400       34\n",
       "C7200       32\n",
       "C2300       32\n",
       "C1240       30\n",
       "C8000       20\n",
       "C7120       18\n",
       "C1500       16\n",
       "C1800       15\n",
       "C6000       15\n",
       "C1250       14\n",
       "C8200       11\n",
       "C1238       10\n",
       "C1278       10\n",
       "C1235        9\n",
       "C1237        9\n",
       "C7210        7\n",
       "C2400        6\n",
       "C1720        6\n",
       "C4100        6\n",
       "C1257        5\n",
       "C1600        5\n",
       "C1260        3\n",
       "C2710        3\n",
       "C0           3\n",
       "C3200        2\n",
       "C1234        2\n",
       "C1246        2\n",
       "C1267        2\n",
       "C1256        2\n",
       "Name: CLASSIFICATION, dtype: int64"
      ]
     },
     "execution_count": 7,
     "metadata": {},
     "output_type": "execute_result"
    }
   ],
   "source": [
    "# You may find it helpful to look at CLASSIFICATION value counts >1\n",
    "classification_value_counts_gt1 = classification_value_counts[classification_value_counts > 1]\n",
    "classification_value_counts_gt1"
   ]
  },
  {
   "cell_type": "code",
   "execution_count": 8,
   "metadata": {
    "tags": []
   },
   "outputs": [
    {
     "data": {
      "text/plain": [
       "C1000    17326\n",
       "C2000     6074\n",
       "C1200     4837\n",
       "Other     2261\n",
       "C3000     1918\n",
       "C2100     1883\n",
       "Name: CLASSIFICATION, dtype: int64"
      ]
     },
     "execution_count": 8,
     "metadata": {},
     "output_type": "execute_result"
    }
   ],
   "source": [
    "# Choose a cutoff value and create a list of classifications to be replaced\n",
    "# use the variable name `classifications_to_replace`\n",
    "cutoff_value_for_classification = 1000\n",
    "classifications_to_replace = list(classification_value_counts[classification_value_counts < cutoff_value_for_classification].index)\n",
    "\n",
    "# Replace in dataframe\n",
    "for cls in classifications_to_replace:\n",
    "    application_df['CLASSIFICATION'] = application_df['CLASSIFICATION'].replace(cls,\"Other\")\n",
    "    \n",
    "# Check to make sure binning was successful\n",
    "application_df['CLASSIFICATION'].value_counts()"
   ]
  },
  {
   "cell_type": "code",
   "execution_count": 9,
   "metadata": {
    "tags": []
   },
   "outputs": [],
   "source": [
    "# Convert categorical data to numeric with `pd.get_dummies`\n",
    "application_df_dummies = pd.get_dummies(application_df)"
   ]
  },
  {
   "cell_type": "code",
   "execution_count": 10,
   "metadata": {
    "tags": []
   },
   "outputs": [],
   "source": [
    "# Split our preprocessed data into our features and target arrays\n",
    "X = application_df_dummies.drop('IS_SUCCESSFUL', axis=1)\n",
    "y = application_df_dummies['IS_SUCCESSFUL']\n",
    "\n",
    "# Split the preprocessed data into a training and testing dataset\n",
    "from sklearn.model_selection import train_test_split\n",
    "X_train, X_test, y_train, y_test = train_test_split(X, y, random_state=42, stratify=y)\n"
   ]
  },
  {
   "cell_type": "code",
   "execution_count": 11,
   "metadata": {
    "tags": []
   },
   "outputs": [],
   "source": [
    "# Create a StandardScaler instances\n",
    "scaler = StandardScaler()\n",
    "\n",
    "# Fit the StandardScaler\n",
    "X_scaler = scaler.fit(X_train)\n",
    "\n",
    "# Scale the data\n",
    "X_train_scaled = X_scaler.transform(X_train)\n",
    "X_test_scaled = X_scaler.transform(X_test)"
   ]
  },
  {
   "cell_type": "markdown",
   "metadata": {},
   "source": [
    "## Compile, Train and Evaluate the Model"
   ]
  },
  {
   "cell_type": "code",
   "execution_count": 12,
   "metadata": {
    "tags": []
   },
   "outputs": [
    {
     "name": "stdout",
     "output_type": "stream",
     "text": [
      "Model: \"sequential\"\n",
      "_________________________________________________________________\n",
      " Layer (type)                Output Shape              Param #   \n",
      "=================================================================\n",
      " dense (Dense)               (None, 80)                3520      \n",
      "                                                                 \n",
      " dense_1 (Dense)             (None, 30)                2430      \n",
      "                                                                 \n",
      " dense_2 (Dense)             (None, 1)                 31        \n",
      "                                                                 \n",
      "=================================================================\n",
      "Total params: 5,981\n",
      "Trainable params: 5,981\n",
      "Non-trainable params: 0\n",
      "_________________________________________________________________\n"
     ]
    }
   ],
   "source": [
    "# Define the model - deep neural net, i.e., the number of input features and hidden nodes for each layer.\n",
    "number_input_features = X_train.shape[1]\n",
    "hidden_nodes_layer1 = 80\n",
    "hidden_nodes_layer2 = 30\n",
    "\n",
    "nn = tf.keras.models.Sequential()\n",
    "\n",
    "# First hidden layer\n",
    "nn.add(tf.keras.layers.Dense(units=hidden_nodes_layer1, input_dim=number_input_features, activation='relu'))\n",
    "\n",
    "# Second hidden layer\n",
    "nn.add(tf.keras.layers.Dense(units=hidden_nodes_layer2, activation='relu'))\n",
    "\n",
    "# Output layer\n",
    "nn.add(tf.keras.layers.Dense(units=1, activation='sigmoid'))\n",
    "\n",
    "# Check the structure of the model\n",
    "nn.summary()"
   ]
  },
  {
   "cell_type": "code",
   "execution_count": 13,
   "metadata": {
    "tags": []
   },
   "outputs": [],
   "source": [
    "# Compile the model\n",
    "from tensorflow.keras.optimizers import SGD\n",
    "\n",
    "nn.compile(optimizer=SGD(learning_rate=0.001), loss='binary_crossentropy', metrics=['accuracy'])"
   ]
  },
  {
   "cell_type": "code",
   "execution_count": 14,
   "metadata": {
    "tags": []
   },
   "outputs": [
    {
     "name": "stdout",
     "output_type": "stream",
     "text": [
      "Epoch 1/100\n",
      "804/804 - 1s - loss: 0.6910 - accuracy: 0.5798 - 1s/epoch - 1ms/step\n",
      "Epoch 2/100\n",
      "804/804 - 1s - loss: 0.6455 - accuracy: 0.6712 - 589ms/epoch - 732us/step\n",
      "Epoch 3/100\n",
      "804/804 - 1s - loss: 0.6207 - accuracy: 0.6920 - 581ms/epoch - 722us/step\n",
      "Epoch 4/100\n",
      "804/804 - 1s - loss: 0.6047 - accuracy: 0.7035 - 577ms/epoch - 718us/step\n",
      "Epoch 5/100\n",
      "804/804 - 1s - loss: 0.5939 - accuracy: 0.7160 - 580ms/epoch - 721us/step\n",
      "Epoch 6/100\n",
      "804/804 - 1s - loss: 0.5862 - accuracy: 0.7224 - 585ms/epoch - 728us/step\n",
      "Epoch 7/100\n",
      "804/804 - 1s - loss: 0.5807 - accuracy: 0.7238 - 584ms/epoch - 726us/step\n",
      "Epoch 8/100\n",
      "804/804 - 1s - loss: 0.5765 - accuracy: 0.7243 - 580ms/epoch - 721us/step\n",
      "Epoch 9/100\n",
      "804/804 - 1s - loss: 0.5734 - accuracy: 0.7262 - 578ms/epoch - 718us/step\n",
      "Epoch 10/100\n",
      "804/804 - 1s - loss: 0.5709 - accuracy: 0.7275 - 581ms/epoch - 722us/step\n",
      "Epoch 11/100\n",
      "804/804 - 1s - loss: 0.5690 - accuracy: 0.7289 - 571ms/epoch - 710us/step\n",
      "Epoch 12/100\n",
      "804/804 - 1s - loss: 0.5674 - accuracy: 0.7294 - 570ms/epoch - 709us/step\n",
      "Epoch 13/100\n",
      "804/804 - 1s - loss: 0.5661 - accuracy: 0.7297 - 578ms/epoch - 719us/step\n",
      "Epoch 14/100\n",
      "804/804 - 1s - loss: 0.5650 - accuracy: 0.7294 - 565ms/epoch - 703us/step\n",
      "Epoch 15/100\n",
      "804/804 - 1s - loss: 0.5640 - accuracy: 0.7297 - 578ms/epoch - 719us/step\n",
      "Epoch 16/100\n",
      "804/804 - 1s - loss: 0.5631 - accuracy: 0.7308 - 574ms/epoch - 714us/step\n",
      "Epoch 17/100\n",
      "804/804 - 1s - loss: 0.5624 - accuracy: 0.7311 - 587ms/epoch - 730us/step\n",
      "Epoch 18/100\n",
      "804/804 - 1s - loss: 0.5617 - accuracy: 0.7304 - 577ms/epoch - 718us/step\n",
      "Epoch 19/100\n",
      "804/804 - 1s - loss: 0.5610 - accuracy: 0.7307 - 590ms/epoch - 734us/step\n",
      "Epoch 20/100\n",
      "804/804 - 1s - loss: 0.5605 - accuracy: 0.7308 - 596ms/epoch - 741us/step\n",
      "Epoch 21/100\n",
      "804/804 - 1s - loss: 0.5600 - accuracy: 0.7310 - 590ms/epoch - 733us/step\n",
      "Epoch 22/100\n",
      "804/804 - 1s - loss: 0.5595 - accuracy: 0.7308 - 579ms/epoch - 720us/step\n",
      "Epoch 23/100\n",
      "804/804 - 1s - loss: 0.5590 - accuracy: 0.7311 - 571ms/epoch - 710us/step\n",
      "Epoch 24/100\n",
      "804/804 - 1s - loss: 0.5586 - accuracy: 0.7307 - 581ms/epoch - 723us/step\n",
      "Epoch 25/100\n",
      "804/804 - 1s - loss: 0.5582 - accuracy: 0.7306 - 583ms/epoch - 725us/step\n",
      "Epoch 26/100\n",
      "804/804 - 1s - loss: 0.5578 - accuracy: 0.7307 - 575ms/epoch - 715us/step\n",
      "Epoch 27/100\n",
      "804/804 - 1s - loss: 0.5575 - accuracy: 0.7312 - 575ms/epoch - 716us/step\n",
      "Epoch 28/100\n",
      "804/804 - 1s - loss: 0.5571 - accuracy: 0.7309 - 575ms/epoch - 715us/step\n",
      "Epoch 29/100\n",
      "804/804 - 1s - loss: 0.5568 - accuracy: 0.7308 - 579ms/epoch - 721us/step\n",
      "Epoch 30/100\n",
      "804/804 - 1s - loss: 0.5565 - accuracy: 0.7307 - 586ms/epoch - 729us/step\n",
      "Epoch 31/100\n",
      "804/804 - 1s - loss: 0.5562 - accuracy: 0.7308 - 577ms/epoch - 718us/step\n",
      "Epoch 32/100\n",
      "804/804 - 1s - loss: 0.5559 - accuracy: 0.7312 - 581ms/epoch - 723us/step\n",
      "Epoch 33/100\n",
      "804/804 - 1s - loss: 0.5556 - accuracy: 0.7309 - 578ms/epoch - 719us/step\n",
      "Epoch 34/100\n",
      "804/804 - 1s - loss: 0.5554 - accuracy: 0.7312 - 580ms/epoch - 721us/step\n",
      "Epoch 35/100\n",
      "804/804 - 1s - loss: 0.5551 - accuracy: 0.7311 - 577ms/epoch - 717us/step\n",
      "Epoch 36/100\n",
      "804/804 - 1s - loss: 0.5549 - accuracy: 0.7313 - 573ms/epoch - 713us/step\n",
      "Epoch 37/100\n",
      "804/804 - 1s - loss: 0.5546 - accuracy: 0.7313 - 585ms/epoch - 727us/step\n",
      "Epoch 38/100\n",
      "804/804 - 1s - loss: 0.5544 - accuracy: 0.7328 - 574ms/epoch - 714us/step\n",
      "Epoch 39/100\n",
      "804/804 - 1s - loss: 0.5542 - accuracy: 0.7326 - 582ms/epoch - 724us/step\n",
      "Epoch 40/100\n",
      "804/804 - 1s - loss: 0.5540 - accuracy: 0.7326 - 578ms/epoch - 718us/step\n",
      "Epoch 41/100\n",
      "804/804 - 1s - loss: 0.5538 - accuracy: 0.7324 - 591ms/epoch - 735us/step\n",
      "Epoch 42/100\n",
      "804/804 - 1s - loss: 0.5536 - accuracy: 0.7327 - 576ms/epoch - 717us/step\n",
      "Epoch 43/100\n",
      "804/804 - 1s - loss: 0.5534 - accuracy: 0.7327 - 570ms/epoch - 710us/step\n",
      "Epoch 44/100\n",
      "804/804 - 1s - loss: 0.5532 - accuracy: 0.7336 - 573ms/epoch - 713us/step\n",
      "Epoch 45/100\n",
      "804/804 - 1s - loss: 0.5530 - accuracy: 0.7330 - 575ms/epoch - 715us/step\n",
      "Epoch 46/100\n",
      "804/804 - 1s - loss: 0.5529 - accuracy: 0.7334 - 593ms/epoch - 738us/step\n",
      "Epoch 47/100\n",
      "804/804 - 1s - loss: 0.5527 - accuracy: 0.7327 - 569ms/epoch - 707us/step\n",
      "Epoch 48/100\n",
      "804/804 - 1s - loss: 0.5525 - accuracy: 0.7331 - 622ms/epoch - 773us/step\n",
      "Epoch 49/100\n",
      "804/804 - 1s - loss: 0.5523 - accuracy: 0.7329 - 658ms/epoch - 818us/step\n",
      "Epoch 50/100\n",
      "804/804 - 1s - loss: 0.5522 - accuracy: 0.7331 - 577ms/epoch - 718us/step\n",
      "Epoch 51/100\n",
      "804/804 - 1s - loss: 0.5520 - accuracy: 0.7336 - 586ms/epoch - 729us/step\n",
      "Epoch 52/100\n",
      "804/804 - 1s - loss: 0.5519 - accuracy: 0.7328 - 582ms/epoch - 724us/step\n",
      "Epoch 53/100\n",
      "804/804 - 1s - loss: 0.5518 - accuracy: 0.7332 - 577ms/epoch - 718us/step\n",
      "Epoch 54/100\n",
      "804/804 - 1s - loss: 0.5516 - accuracy: 0.7337 - 585ms/epoch - 728us/step\n",
      "Epoch 55/100\n",
      "804/804 - 1s - loss: 0.5515 - accuracy: 0.7339 - 576ms/epoch - 717us/step\n",
      "Epoch 56/100\n",
      "804/804 - 1s - loss: 0.5514 - accuracy: 0.7332 - 582ms/epoch - 724us/step\n",
      "Epoch 57/100\n",
      "804/804 - 1s - loss: 0.5512 - accuracy: 0.7341 - 607ms/epoch - 755us/step\n",
      "Epoch 58/100\n",
      "804/804 - 1s - loss: 0.5511 - accuracy: 0.7336 - 595ms/epoch - 740us/step\n",
      "Epoch 59/100\n",
      "804/804 - 1s - loss: 0.5509 - accuracy: 0.7339 - 673ms/epoch - 837us/step\n",
      "Epoch 60/100\n",
      "804/804 - 1s - loss: 0.5508 - accuracy: 0.7338 - 658ms/epoch - 818us/step\n",
      "Epoch 61/100\n",
      "804/804 - 1s - loss: 0.5507 - accuracy: 0.7343 - 655ms/epoch - 815us/step\n",
      "Epoch 62/100\n",
      "804/804 - 1s - loss: 0.5506 - accuracy: 0.7342 - 655ms/epoch - 814us/step\n",
      "Epoch 63/100\n",
      "804/804 - 1s - loss: 0.5505 - accuracy: 0.7337 - 649ms/epoch - 808us/step\n",
      "Epoch 64/100\n",
      "804/804 - 1s - loss: 0.5503 - accuracy: 0.7342 - 652ms/epoch - 811us/step\n",
      "Epoch 65/100\n",
      "804/804 - 1s - loss: 0.5502 - accuracy: 0.7339 - 656ms/epoch - 816us/step\n",
      "Epoch 66/100\n",
      "804/804 - 1s - loss: 0.5501 - accuracy: 0.7341 - 683ms/epoch - 850us/step\n",
      "Epoch 67/100\n",
      "804/804 - 1s - loss: 0.5500 - accuracy: 0.7343 - 665ms/epoch - 828us/step\n",
      "Epoch 68/100\n",
      "804/804 - 1s - loss: 0.5499 - accuracy: 0.7339 - 641ms/epoch - 798us/step\n",
      "Epoch 69/100\n",
      "804/804 - 1s - loss: 0.5498 - accuracy: 0.7343 - 670ms/epoch - 834us/step\n",
      "Epoch 70/100\n",
      "804/804 - 1s - loss: 0.5497 - accuracy: 0.7343 - 662ms/epoch - 823us/step\n",
      "Epoch 71/100\n",
      "804/804 - 1s - loss: 0.5496 - accuracy: 0.7341 - 645ms/epoch - 802us/step\n",
      "Epoch 72/100\n",
      "804/804 - 1s - loss: 0.5495 - accuracy: 0.7343 - 644ms/epoch - 802us/step\n",
      "Epoch 73/100\n",
      "804/804 - 1s - loss: 0.5494 - accuracy: 0.7341 - 649ms/epoch - 807us/step\n",
      "Epoch 74/100\n",
      "804/804 - 1s - loss: 0.5493 - accuracy: 0.7341 - 649ms/epoch - 807us/step\n",
      "Epoch 75/100\n",
      "804/804 - 1s - loss: 0.5492 - accuracy: 0.7341 - 656ms/epoch - 816us/step\n",
      "Epoch 76/100\n",
      "804/804 - 1s - loss: 0.5491 - accuracy: 0.7340 - 653ms/epoch - 812us/step\n",
      "Epoch 77/100\n",
      "804/804 - 1s - loss: 0.5490 - accuracy: 0.7341 - 653ms/epoch - 812us/step\n",
      "Epoch 78/100\n",
      "804/804 - 1s - loss: 0.5489 - accuracy: 0.7343 - 657ms/epoch - 818us/step\n",
      "Epoch 79/100\n",
      "804/804 - 1s - loss: 0.5489 - accuracy: 0.7342 - 676ms/epoch - 841us/step\n",
      "Epoch 80/100\n",
      "804/804 - 1s - loss: 0.5488 - accuracy: 0.7340 - 667ms/epoch - 829us/step\n",
      "Epoch 81/100\n",
      "804/804 - 1s - loss: 0.5487 - accuracy: 0.7345 - 656ms/epoch - 816us/step\n",
      "Epoch 82/100\n",
      "804/804 - 1s - loss: 0.5486 - accuracy: 0.7343 - 651ms/epoch - 809us/step\n",
      "Epoch 83/100\n",
      "804/804 - 1s - loss: 0.5485 - accuracy: 0.7341 - 641ms/epoch - 797us/step\n",
      "Epoch 84/100\n",
      "804/804 - 1s - loss: 0.5484 - accuracy: 0.7342 - 642ms/epoch - 799us/step\n",
      "Epoch 85/100\n",
      "804/804 - 1s - loss: 0.5483 - accuracy: 0.7343 - 654ms/epoch - 814us/step\n",
      "Epoch 86/100\n",
      "804/804 - 1s - loss: 0.5483 - accuracy: 0.7344 - 646ms/epoch - 804us/step\n",
      "Epoch 87/100\n",
      "804/804 - 1s - loss: 0.5482 - accuracy: 0.7343 - 637ms/epoch - 793us/step\n",
      "Epoch 88/100\n",
      "804/804 - 1s - loss: 0.5481 - accuracy: 0.7343 - 649ms/epoch - 807us/step\n",
      "Epoch 89/100\n",
      "804/804 - 1s - loss: 0.5480 - accuracy: 0.7343 - 645ms/epoch - 803us/step\n",
      "Epoch 90/100\n",
      "804/804 - 1s - loss: 0.5480 - accuracy: 0.7342 - 658ms/epoch - 818us/step\n",
      "Epoch 91/100\n",
      "804/804 - 1s - loss: 0.5479 - accuracy: 0.7344 - 651ms/epoch - 810us/step\n",
      "Epoch 92/100\n",
      "804/804 - 1s - loss: 0.5478 - accuracy: 0.7338 - 643ms/epoch - 800us/step\n",
      "Epoch 93/100\n",
      "804/804 - 1s - loss: 0.5478 - accuracy: 0.7343 - 683ms/epoch - 850us/step\n",
      "Epoch 94/100\n",
      "804/804 - 1s - loss: 0.5477 - accuracy: 0.7343 - 652ms/epoch - 811us/step\n",
      "Epoch 95/100\n",
      "804/804 - 1s - loss: 0.5476 - accuracy: 0.7345 - 672ms/epoch - 836us/step\n",
      "Epoch 96/100\n",
      "804/804 - 1s - loss: 0.5476 - accuracy: 0.7345 - 662ms/epoch - 824us/step\n",
      "Epoch 97/100\n",
      "804/804 - 1s - loss: 0.5475 - accuracy: 0.7344 - 652ms/epoch - 812us/step\n",
      "Epoch 98/100\n",
      "804/804 - 1s - loss: 0.5474 - accuracy: 0.7345 - 664ms/epoch - 826us/step\n",
      "Epoch 99/100\n",
      "804/804 - 1s - loss: 0.5474 - accuracy: 0.7344 - 662ms/epoch - 824us/step\n",
      "Epoch 100/100\n",
      "804/804 - 1s - loss: 0.5473 - accuracy: 0.7345 - 659ms/epoch - 820us/step\n"
     ]
    },
    {
     "data": {
      "text/plain": [
       "<keras.callbacks.History at 0x280784c0648>"
      ]
     },
     "execution_count": 14,
     "metadata": {},
     "output_type": "execute_result"
    }
   ],
   "source": [
    "# Train the model\n",
    "nn.fit(X_train_scaled, y_train, epochs=100, verbose=2)"
   ]
  },
  {
   "cell_type": "code",
   "execution_count": 15,
   "metadata": {
    "tags": []
   },
   "outputs": [
    {
     "name": "stdout",
     "output_type": "stream",
     "text": [
      "268/268 - 0s - loss: 0.5571 - accuracy: 0.7222 - 281ms/epoch - 1ms/step\n",
      "Loss: 0.557146430015564, Accuracy: 0.7222157716751099\n"
     ]
    }
   ],
   "source": [
    "# Evaluate the model using the test data\n",
    "model_loss, model_accuracy = nn.evaluate(X_test_scaled,y_test,verbose=2)\n",
    "print(f\"Loss: {model_loss}, Accuracy: {model_accuracy}\")"
   ]
  },
  {
   "cell_type": "code",
   "execution_count": 16,
   "metadata": {
    "tags": []
   },
   "outputs": [],
   "source": [
    "# Export our model to HDF5 file\n",
    "nn.save(\"AlphabetSoupCharity_Optimization.h5\")"
   ]
  },
  {
   "cell_type": "code",
   "execution_count": null,
   "metadata": {},
   "outputs": [],
   "source": []
  }
 ],
 "metadata": {
  "kernelspec": {
   "display_name": "Python 3 (ipykernel)",
   "language": "python",
   "name": "python3"
  },
  "language_info": {
   "codemirror_mode": {
    "name": "ipython",
    "version": 3
   },
   "file_extension": ".py",
   "mimetype": "text/x-python",
   "name": "python",
   "nbconvert_exporter": "python",
   "pygments_lexer": "ipython3",
   "version": "3.7.13"
  },
  "vscode": {
   "interpreter": {
    "hash": "31f2aee4e71d21fbe5cf8b01ff0e069b9275f58929596ceb00d14d90e3e16cd6"
   }
  }
 },
 "nbformat": 4,
 "nbformat_minor": 4
}
